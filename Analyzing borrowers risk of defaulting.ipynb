{
 "cells": [
  {
   "cell_type": "markdown",
   "metadata": {},
   "source": [
    "# <center><font color='#1a75ff'>Analyzing borrowers’ risk of defaulting</font></center>"
   ]
  },
  {
   "cell_type": "markdown",
   "metadata": {},
   "source": [
    "<center><img src=\"loan.jpg\"></center>"
   ]
  },
  {
   "cell_type": "markdown",
   "metadata": {},
   "source": [
    "### Contents <a class=\"anchor\" id=\"contents\"></a>\n",
    "\n",
    "* [Project description](#Project_description)\n",
    "<p> </p> \n",
    "* [Part 1. Loading libraries and dataset](#Part_1)\n",
    "    * [Conclusion](#Conclusion_Part_1)\n",
    "<p> </p>     \n",
    "* [Part 2. Preparation the data](#Part_2)\n",
    "    * [Processing missing values](#Part2step1)\n",
    "    * [Processing duplicates](#Part2step2)\n",
    "    * [Conclusion](#Conclusion_Part_2)\n",
    "<p> </p>    \n",
    "* [Part 3. Exploratory Analysis](#Part_3)\n",
    "    * [Conclusion](#Conclusion_Part_3)\n",
    "<p> </p>     \n",
    "* [General Conclusion](#General_Conclusion)"
   ]
  },
  {
   "cell_type": "markdown",
   "metadata": {},
   "source": [
    "## Project description <a class=\"anchor\" id=\"Project_description\"></a>\n",
    "\n",
    "This project is to prepare a report for a bank’s loan division. The report will be considered when building a credit scoring of a potential customer. \n",
    "A credit scoring is used to evaluate the ability of a potential borrower to repay their loan.\n",
    "\n",
    "As we know, the default is the failure to repay a debt including interest or principal on a loan or security. A default can occur when a borrower is unable to make timely payments, misses payments, or avoids or stops making payments.\n",
    "\n",
    "**The project finds out if a customer’s marital status and number of children has an impact on whether they will default on a loan.** \n",
    "\n",
    "The bank already has some data on customers’ credit worthiness."
   ]
  },
  {
   "cell_type": "markdown",
   "metadata": {},
   "source": [
    "## Part 1. Loading libraries and dataset <a class=\"anchor\" id=\"Part_1\"></a>\n",
    "[Go back to the Contents](#contents)\n",
    "\n",
    "First, let's load the libraries required for data manipulation and analysis."
   ]
  },
  {
   "cell_type": "code",
   "execution_count": 1,
   "metadata": {},
   "outputs": [],
   "source": [
    "#import packages for data manipulations\n",
    "import pandas as pd\n",
    "import numpy as np\n",
    "\n",
    "#import packages for data plotting\n",
    "import matplotlib.pyplot as plt\n",
    "import matplotlib.patches as mpatches\n",
    "import seaborn as sns\n",
    "#import packages for splitting a sample of text into words\n",
    "import nltk\n",
    "from nltk.tokenize import word_tokenize"
   ]
  },
  {
   "cell_type": "markdown",
   "metadata": {},
   "source": [
    "Now we are looking at the content of the data file."
   ]
  },
  {
   "cell_type": "code",
   "execution_count": 2,
   "metadata": {},
   "outputs": [],
   "source": [
    "#the source of data:\n",
    "data = pd.read_csv(\"credit_scoring_eng.csv\")"
   ]
  },
  {
   "cell_type": "markdown",
   "metadata": {},
   "source": [
    "The file consist information about loan borrowers, namely\n",
    "- the number of children in the family\n",
    "- how long the customer has worked\n",
    "- the customer’s age\n",
    "- the customer’s education level\n",
    "- the customer’s marital status\n",
    "- the customer’s gender\n",
    "- the customer’s income type\n",
    "- an annual income\n",
    "- whether the client has ever defaulted on a loan\n",
    "- a reason for taking out a loan\n",
    "\n",
    "Let's take a look at the dataset structure."
   ]
  },
  {
   "cell_type": "code",
   "execution_count": 3,
   "metadata": {},
   "outputs": [
    {
     "name": "stdout",
     "output_type": "stream",
     "text": [
      "<class 'pandas.core.frame.DataFrame'>\n",
      "RangeIndex: 21525 entries, 0 to 21524\n",
      "Data columns (total 12 columns):\n",
      " #   Column             Non-Null Count  Dtype  \n",
      "---  ------             --------------  -----  \n",
      " 0   children           21525 non-null  int64  \n",
      " 1   days_employed      19351 non-null  float64\n",
      " 2   age                21525 non-null  int64  \n",
      " 3   education          21525 non-null  object \n",
      " 4   education_id       21525 non-null  int64  \n",
      " 5   marital_status     21525 non-null  object \n",
      " 6   marital_status_id  21525 non-null  int64  \n",
      " 7   gender             21525 non-null  object \n",
      " 8   income_type        21525 non-null  object \n",
      " 9   debt_occured       21525 non-null  int64  \n",
      " 10  total_income       19351 non-null  float64\n",
      " 11  purpose_of_loan    21525 non-null  object \n",
      "dtypes: float64(2), int64(5), object(5)\n",
      "memory usage: 8.2 MB\n"
     ]
    }
   ],
   "source": [
    "#change some field names for the convenience of working with data\n",
    "data.rename(columns={'dob_years': 'age','debt':'debt_occured','purpose':'purpose_of_loan'\n",
    "                   ,'family_status':'marital_status', 'family_status_id':'marital_status_id'}, inplace=True)\n",
    "\n",
    "#the structure of our dataset\n",
    "data.info(memory_usage='deep')"
   ]
  },
  {
   "cell_type": "markdown",
   "metadata": {},
   "source": [
    "The data file has 21525 rows (each one is a separate loan) and 12 columns of customer and loan properties. <br>\n",
    "\n",
    "The values of *Non-Null Count* column shows us that almost all fields of dataset are filled, except two of them: *days_employed* and *total_income*. These two have Nan values in the rows.<br>\n",
    "By the meaning, only one column *days_employed* has the wrong type of data. The number of days must be an integer."
   ]
  },
  {
   "cell_type": "code",
   "execution_count": 4,
   "metadata": {},
   "outputs": [
    {
     "data": {
      "text/html": [
       "<div>\n",
       "<style scoped>\n",
       "    .dataframe tbody tr th:only-of-type {\n",
       "        vertical-align: middle;\n",
       "    }\n",
       "\n",
       "    .dataframe tbody tr th {\n",
       "        vertical-align: top;\n",
       "    }\n",
       "\n",
       "    .dataframe thead th {\n",
       "        text-align: right;\n",
       "    }\n",
       "</style>\n",
       "<table border=\"1\" class=\"dataframe\">\n",
       "  <thead>\n",
       "    <tr style=\"text-align: right;\">\n",
       "      <th></th>\n",
       "      <th>children</th>\n",
       "      <th>days_employed</th>\n",
       "      <th>age</th>\n",
       "      <th>education</th>\n",
       "      <th>education_id</th>\n",
       "      <th>marital_status</th>\n",
       "      <th>marital_status_id</th>\n",
       "      <th>gender</th>\n",
       "      <th>income_type</th>\n",
       "      <th>debt_occured</th>\n",
       "      <th>total_income</th>\n",
       "      <th>purpose_of_loan</th>\n",
       "    </tr>\n",
       "  </thead>\n",
       "  <tbody>\n",
       "    <tr>\n",
       "      <th>0</th>\n",
       "      <td>1</td>\n",
       "      <td>-8437.673028</td>\n",
       "      <td>42</td>\n",
       "      <td>bachelor's degree</td>\n",
       "      <td>0</td>\n",
       "      <td>married</td>\n",
       "      <td>0</td>\n",
       "      <td>F</td>\n",
       "      <td>employee</td>\n",
       "      <td>0</td>\n",
       "      <td>40620.102</td>\n",
       "      <td>purchase of the house</td>\n",
       "    </tr>\n",
       "    <tr>\n",
       "      <th>1</th>\n",
       "      <td>1</td>\n",
       "      <td>-4024.803754</td>\n",
       "      <td>36</td>\n",
       "      <td>secondary education</td>\n",
       "      <td>1</td>\n",
       "      <td>married</td>\n",
       "      <td>0</td>\n",
       "      <td>F</td>\n",
       "      <td>employee</td>\n",
       "      <td>0</td>\n",
       "      <td>17932.802</td>\n",
       "      <td>car purchase</td>\n",
       "    </tr>\n",
       "    <tr>\n",
       "      <th>2</th>\n",
       "      <td>0</td>\n",
       "      <td>-5623.422610</td>\n",
       "      <td>33</td>\n",
       "      <td>Secondary Education</td>\n",
       "      <td>1</td>\n",
       "      <td>married</td>\n",
       "      <td>0</td>\n",
       "      <td>M</td>\n",
       "      <td>employee</td>\n",
       "      <td>0</td>\n",
       "      <td>23341.752</td>\n",
       "      <td>purchase of the house</td>\n",
       "    </tr>\n",
       "    <tr>\n",
       "      <th>3</th>\n",
       "      <td>3</td>\n",
       "      <td>-4124.747207</td>\n",
       "      <td>32</td>\n",
       "      <td>secondary education</td>\n",
       "      <td>1</td>\n",
       "      <td>married</td>\n",
       "      <td>0</td>\n",
       "      <td>M</td>\n",
       "      <td>employee</td>\n",
       "      <td>0</td>\n",
       "      <td>42820.568</td>\n",
       "      <td>supplementary education</td>\n",
       "    </tr>\n",
       "    <tr>\n",
       "      <th>4</th>\n",
       "      <td>0</td>\n",
       "      <td>340266.072047</td>\n",
       "      <td>53</td>\n",
       "      <td>secondary education</td>\n",
       "      <td>1</td>\n",
       "      <td>civil partnership</td>\n",
       "      <td>1</td>\n",
       "      <td>F</td>\n",
       "      <td>retiree</td>\n",
       "      <td>0</td>\n",
       "      <td>25378.572</td>\n",
       "      <td>to have a wedding</td>\n",
       "    </tr>\n",
       "    <tr>\n",
       "      <th>5</th>\n",
       "      <td>0</td>\n",
       "      <td>-926.185831</td>\n",
       "      <td>27</td>\n",
       "      <td>bachelor's degree</td>\n",
       "      <td>0</td>\n",
       "      <td>civil partnership</td>\n",
       "      <td>1</td>\n",
       "      <td>M</td>\n",
       "      <td>business</td>\n",
       "      <td>0</td>\n",
       "      <td>40922.170</td>\n",
       "      <td>purchase of the house</td>\n",
       "    </tr>\n",
       "    <tr>\n",
       "      <th>6</th>\n",
       "      <td>0</td>\n",
       "      <td>-2879.202052</td>\n",
       "      <td>43</td>\n",
       "      <td>bachelor's degree</td>\n",
       "      <td>0</td>\n",
       "      <td>married</td>\n",
       "      <td>0</td>\n",
       "      <td>F</td>\n",
       "      <td>business</td>\n",
       "      <td>0</td>\n",
       "      <td>38484.156</td>\n",
       "      <td>housing transactions</td>\n",
       "    </tr>\n",
       "    <tr>\n",
       "      <th>7</th>\n",
       "      <td>0</td>\n",
       "      <td>-152.779569</td>\n",
       "      <td>50</td>\n",
       "      <td>SECONDARY EDUCATION</td>\n",
       "      <td>1</td>\n",
       "      <td>married</td>\n",
       "      <td>0</td>\n",
       "      <td>M</td>\n",
       "      <td>employee</td>\n",
       "      <td>0</td>\n",
       "      <td>21731.829</td>\n",
       "      <td>education</td>\n",
       "    </tr>\n",
       "    <tr>\n",
       "      <th>8</th>\n",
       "      <td>2</td>\n",
       "      <td>-6929.865299</td>\n",
       "      <td>35</td>\n",
       "      <td>BACHELOR'S DEGREE</td>\n",
       "      <td>0</td>\n",
       "      <td>civil partnership</td>\n",
       "      <td>1</td>\n",
       "      <td>F</td>\n",
       "      <td>employee</td>\n",
       "      <td>0</td>\n",
       "      <td>15337.093</td>\n",
       "      <td>having a wedding</td>\n",
       "    </tr>\n",
       "    <tr>\n",
       "      <th>9</th>\n",
       "      <td>0</td>\n",
       "      <td>-2188.756445</td>\n",
       "      <td>41</td>\n",
       "      <td>secondary education</td>\n",
       "      <td>1</td>\n",
       "      <td>married</td>\n",
       "      <td>0</td>\n",
       "      <td>M</td>\n",
       "      <td>employee</td>\n",
       "      <td>0</td>\n",
       "      <td>23108.150</td>\n",
       "      <td>purchase of the house for my family</td>\n",
       "    </tr>\n",
       "  </tbody>\n",
       "</table>\n",
       "</div>"
      ],
      "text/plain": [
       "   children  days_employed  age            education  education_id  \\\n",
       "0         1   -8437.673028   42    bachelor's degree             0   \n",
       "1         1   -4024.803754   36  secondary education             1   \n",
       "2         0   -5623.422610   33  Secondary Education             1   \n",
       "3         3   -4124.747207   32  secondary education             1   \n",
       "4         0  340266.072047   53  secondary education             1   \n",
       "5         0    -926.185831   27    bachelor's degree             0   \n",
       "6         0   -2879.202052   43    bachelor's degree             0   \n",
       "7         0    -152.779569   50  SECONDARY EDUCATION             1   \n",
       "8         2   -6929.865299   35    BACHELOR'S DEGREE             0   \n",
       "9         0   -2188.756445   41  secondary education             1   \n",
       "\n",
       "      marital_status  marital_status_id gender income_type  debt_occured  \\\n",
       "0            married                  0      F    employee             0   \n",
       "1            married                  0      F    employee             0   \n",
       "2            married                  0      M    employee             0   \n",
       "3            married                  0      M    employee             0   \n",
       "4  civil partnership                  1      F     retiree             0   \n",
       "5  civil partnership                  1      M    business             0   \n",
       "6            married                  0      F    business             0   \n",
       "7            married                  0      M    employee             0   \n",
       "8  civil partnership                  1      F    employee             0   \n",
       "9            married                  0      M    employee             0   \n",
       "\n",
       "   total_income                      purpose_of_loan  \n",
       "0     40620.102                purchase of the house  \n",
       "1     17932.802                         car purchase  \n",
       "2     23341.752                purchase of the house  \n",
       "3     42820.568              supplementary education  \n",
       "4     25378.572                    to have a wedding  \n",
       "5     40922.170                purchase of the house  \n",
       "6     38484.156                 housing transactions  \n",
       "7     21731.829                            education  \n",
       "8     15337.093                     having a wedding  \n",
       "9     23108.150  purchase of the house for my family  "
      ]
     },
     "execution_count": 4,
     "metadata": {},
     "output_type": "execute_result"
    }
   ],
   "source": [
    "#this function returns the first 10 rows for quickly testing of our data\n",
    "data.head(10)"
   ]
  },
  {
   "cell_type": "markdown",
   "metadata": {},
   "source": [
    "### Conclusion. <a class=\"anchor\" id=\"Conclusion_Part_1\"></a>\n",
    "\n",
    "At first glance, the column *days_employed* has more tricky data. It consists negative values.\n",
    "\n",
    "Some of data has uppercase characters in a string. Therefore, to reduce variability of data we convert string values into lowercase.\n",
    "\n",
    "Our dataset has quantitative and categorical variables.<br>\n",
    "It is a good practice to use Label Encoding for categorical variables where each unique category(label) is mapped to an integer. This improves data quality and reduces the size of dataset.\n",
    "Our dataset already has two encoded objects: *edication* and *marital_status*. We should check that the connection was  built correctly.\n",
    "\n",
    "Probably we will want to use Label Encoding to *purpose_of_loan* column and to try dimensionality reduction if it nessesary.\n",
    "\n",
    "At this step, we got a view of data, estimated the amount of data, considered data types, found fields containing empty values and checked the presence of anomalous data in the fields."
   ]
  },
  {
   "cell_type": "markdown",
   "metadata": {},
   "source": [
    "## Part 2. Preparation the data <a class=\"anchor\" id=\"Part_2\"></a>\n",
    "[Go back to the Contents](#contents)\n",
    "\n",
    "Let's go deeper and get rid of artifacts, fill in the missing data, find patterns in the data and define relationships within the data for further analysis.\n",
    "\n",
    "Anomalies or outliers occur for different reasons. As example, \n",
    "- from many sources, data came in various formats that are poorly compatible and give errors in the general dataset;\n",
    "- errors were made on manual data entry;\n",
    "- a data flaw also can be caused by software and hardware errors and etc.\n",
    "\n",
    "One way to analyze anomalies is by looking at the statistics of a column using the describe method."
   ]
  },
  {
   "cell_type": "code",
   "execution_count": 5,
   "metadata": {},
   "outputs": [
    {
     "data": {
      "text/html": [
       "<div>\n",
       "<style scoped>\n",
       "    .dataframe tbody tr th:only-of-type {\n",
       "        vertical-align: middle;\n",
       "    }\n",
       "\n",
       "    .dataframe tbody tr th {\n",
       "        vertical-align: top;\n",
       "    }\n",
       "\n",
       "    .dataframe thead th {\n",
       "        text-align: right;\n",
       "    }\n",
       "</style>\n",
       "<table border=\"1\" class=\"dataframe\">\n",
       "  <thead>\n",
       "    <tr style=\"text-align: right;\">\n",
       "      <th></th>\n",
       "      <th>children</th>\n",
       "      <th>days_employed</th>\n",
       "      <th>age</th>\n",
       "      <th>education_id</th>\n",
       "      <th>marital_status_id</th>\n",
       "      <th>debt_occured</th>\n",
       "      <th>total_income</th>\n",
       "    </tr>\n",
       "  </thead>\n",
       "  <tbody>\n",
       "    <tr>\n",
       "      <th>count</th>\n",
       "      <td>21525.000000</td>\n",
       "      <td>19351.000000</td>\n",
       "      <td>21525.000000</td>\n",
       "      <td>21525.000000</td>\n",
       "      <td>21525.000000</td>\n",
       "      <td>21525.000000</td>\n",
       "      <td>19351.000000</td>\n",
       "    </tr>\n",
       "    <tr>\n",
       "      <th>mean</th>\n",
       "      <td>0.538908</td>\n",
       "      <td>63046.497661</td>\n",
       "      <td>43.293380</td>\n",
       "      <td>0.817236</td>\n",
       "      <td>0.972544</td>\n",
       "      <td>0.080883</td>\n",
       "      <td>26787.568355</td>\n",
       "    </tr>\n",
       "    <tr>\n",
       "      <th>std</th>\n",
       "      <td>1.381587</td>\n",
       "      <td>140827.311974</td>\n",
       "      <td>12.574584</td>\n",
       "      <td>0.548138</td>\n",
       "      <td>1.420324</td>\n",
       "      <td>0.272661</td>\n",
       "      <td>16475.450632</td>\n",
       "    </tr>\n",
       "    <tr>\n",
       "      <th>min</th>\n",
       "      <td>-1.000000</td>\n",
       "      <td>-18388.949901</td>\n",
       "      <td>0.000000</td>\n",
       "      <td>0.000000</td>\n",
       "      <td>0.000000</td>\n",
       "      <td>0.000000</td>\n",
       "      <td>3306.762000</td>\n",
       "    </tr>\n",
       "    <tr>\n",
       "      <th>25%</th>\n",
       "      <td>0.000000</td>\n",
       "      <td>-2747.423625</td>\n",
       "      <td>33.000000</td>\n",
       "      <td>1.000000</td>\n",
       "      <td>0.000000</td>\n",
       "      <td>0.000000</td>\n",
       "      <td>16488.504500</td>\n",
       "    </tr>\n",
       "    <tr>\n",
       "      <th>50%</th>\n",
       "      <td>0.000000</td>\n",
       "      <td>-1203.369529</td>\n",
       "      <td>42.000000</td>\n",
       "      <td>1.000000</td>\n",
       "      <td>0.000000</td>\n",
       "      <td>0.000000</td>\n",
       "      <td>23202.870000</td>\n",
       "    </tr>\n",
       "    <tr>\n",
       "      <th>75%</th>\n",
       "      <td>1.000000</td>\n",
       "      <td>-291.095954</td>\n",
       "      <td>53.000000</td>\n",
       "      <td>1.000000</td>\n",
       "      <td>1.000000</td>\n",
       "      <td>0.000000</td>\n",
       "      <td>32549.611000</td>\n",
       "    </tr>\n",
       "    <tr>\n",
       "      <th>max</th>\n",
       "      <td>20.000000</td>\n",
       "      <td>401755.400475</td>\n",
       "      <td>75.000000</td>\n",
       "      <td>4.000000</td>\n",
       "      <td>4.000000</td>\n",
       "      <td>1.000000</td>\n",
       "      <td>362496.645000</td>\n",
       "    </tr>\n",
       "  </tbody>\n",
       "</table>\n",
       "</div>"
      ],
      "text/plain": [
       "           children  days_employed           age  education_id  \\\n",
       "count  21525.000000   19351.000000  21525.000000  21525.000000   \n",
       "mean       0.538908   63046.497661     43.293380      0.817236   \n",
       "std        1.381587  140827.311974     12.574584      0.548138   \n",
       "min       -1.000000  -18388.949901      0.000000      0.000000   \n",
       "25%        0.000000   -2747.423625     33.000000      1.000000   \n",
       "50%        0.000000   -1203.369529     42.000000      1.000000   \n",
       "75%        1.000000    -291.095954     53.000000      1.000000   \n",
       "max       20.000000  401755.400475     75.000000      4.000000   \n",
       "\n",
       "       marital_status_id  debt_occured   total_income  \n",
       "count       21525.000000  21525.000000   19351.000000  \n",
       "mean            0.972544      0.080883   26787.568355  \n",
       "std             1.420324      0.272661   16475.450632  \n",
       "min             0.000000      0.000000    3306.762000  \n",
       "25%             0.000000      0.000000   16488.504500  \n",
       "50%             0.000000      0.000000   23202.870000  \n",
       "75%             1.000000      0.000000   32549.611000  \n",
       "max             4.000000      1.000000  362496.645000  "
      ]
     },
     "execution_count": 5,
     "metadata": {},
     "output_type": "execute_result"
    }
   ],
   "source": [
    "#basic statistical details of numeric values\n",
    "data.describe()"
   ]
  },
  {
   "cell_type": "markdown",
   "metadata": {},
   "source": [
    "These are quantitative variables.<br>\n",
    "Let's explore.\n",
    "- Children column has negative (-1) and extremely high (20) values\n",
    "- Days_employed column has negative (-18388.949901) and extremely high (401755.400475) values\n",
    "- Age column has zero values\n",
    "- Total_income has extremely high (362496.645) value \n",
    "\n",
    "We must be sure that indeed these values are invalidate data, errors, outliers or typos."
   ]
  },
  {
   "cell_type": "markdown",
   "metadata": {},
   "source": [
    "### Processing missing values <a class=\"anchor\" id=\"Part2step1\"></a>\n",
    "\n",
    "Let's go through the data structure one by one, analyze the contents of each column, paying attention to the anomalies that we found earlier.\n",
    "\n",
    "- **CHILDREN**\n",
    "\n",
    "As we saw above, this column contains two unclear values -1 and 20. Let's see the data distribution on the graph."
   ]
  },
  {
   "cell_type": "code",
   "execution_count": 6,
   "metadata": {},
   "outputs": [
    {
     "data": {
      "image/png": "[encoded data removed]",
      "text/plain": [
       "<Figure size 936x216 with 1 Axes>"
      ]
     },
     "metadata": {
      "needs_background": "light"
     },
     "output_type": "display_data"
    }
   ],
   "source": [
    "#plot the distribution of number of children\n",
    "plt.figure(figsize=(13,3))\n",
    "plt.hist(data['children'], bins= 30, color='green')\n",
    "plt.title('Number of children'); plt.xlabel('Amount'); plt.ylabel('Frequency');"
   ]
  },
  {
   "cell_type": "markdown",
   "metadata": {},
   "source": [
    "The number of children cannot be less than 0, therefore -1 is a clear error.<br>\n",
    "20 is a data point that lies outside the overall pattern in a distribution. So this is an outlier"
   ]
  },
  {
   "cell_type": "code",
   "execution_count": 7,
   "metadata": {},
   "outputs": [
    {
     "data": {
      "text/plain": [
       " 0     65.732869\n",
       " 1     22.383275\n",
       " 2      9.547038\n",
       " 3      1.533101\n",
       " 20     0.353078\n",
       "-1      0.218351\n",
       " 4      0.190476\n",
       " 5      0.041812\n",
       "Name: children, dtype: float64"
      ]
     },
     "execution_count": 7,
     "metadata": {},
     "output_type": "execute_result"
    }
   ],
   "source": [
    "#percentage of values in the sample\n",
    "data['children'].value_counts() / data.shape[0] * 100"
   ]
  },
  {
   "cell_type": "markdown",
   "metadata": {},
   "source": [
    "The percentage number of such values in the sample is 0.2% for the value -1 and 0.3% for the value 20. That is a pretty minuscule amount.<br>\n",
    "These values increase the variability in data, which decreases statistical power. Also number of children is significant values for our task.<br>\n",
    "For that reasons we will exclude values -1 and 20 from further analysis."
   ]
  },
  {
   "cell_type": "code",
   "execution_count": 8,
   "metadata": {},
   "outputs": [],
   "source": [
    "#dataset for further analysis\n",
    "customers = data.loc[(data['children']>=0) & (data['children']<20)]"
   ]
  },
  {
   "cell_type": "markdown",
   "metadata": {},
   "source": [
    "Since the abnormal data in the column \"children\" can be the result of \n",
    " input-output errors and, analyzing the contents of other attributes of the rows, one of the solutions to the problem can be:\n",
    "- remove the minus sign for -1 using the abs () function\n",
    "- replace the outlier value (20) with the average value of the children in the sample."
   ]
  },
  {
   "cell_type": "markdown",
   "metadata": {},
   "source": [
    "The next column:\n",
    "- **AGE**\n",
    "\n",
    "This column has values equal to zero.\n",
    "However, the customer’s age cannot be zero, so we’ll see the distribution and decide what to do."
   ]
  },
  {
   "cell_type": "code",
   "execution_count": 9,
   "metadata": {},
   "outputs": [
    {
     "name": "stdout",
     "output_type": "stream",
     "text": [
      "Number of customers with zero age: 100\n"
     ]
    }
   ],
   "source": [
    "print('Number of customers with zero age:', customers[customers['age']==0]['age'].count())"
   ]
  },
  {
   "cell_type": "code",
   "execution_count": 10,
   "metadata": {},
   "outputs": [
    {
     "data": {
      "image/png": "[encoded data removed]",
      "text/plain": [
       "<Figure size 936x216 with 1 Axes>"
      ]
     },
     "metadata": {
      "needs_background": "light"
     },
     "output_type": "display_data"
    }
   ],
   "source": [
    "#plot\n",
    "plt.figure(figsize=(13,3))\n",
    "plt.hist(customers['age'], bins=10, color='orange');\n",
    "plt.title(\"Customer's Age\"); plt.xlabel('Age (years)'); plt.ylabel('Frequency');"
   ]
  },
  {
   "cell_type": "markdown",
   "metadata": {},
   "source": [
    "As we can see on histogram, zero values is numerically distant from most of the other data points in a set of data.\n",
    "It mean, that age data has an outlier.\n",
    "\n",
    "The number of rows with an outlier value is only is a hundred and the age data distribution in the dataset is skewed. Using the median to replace the zero value is a possible solution. This will save the data in the sample."
   ]
  },
  {
   "cell_type": "code",
   "execution_count": 11,
   "metadata": {},
   "outputs": [
    {
     "name": "stdout",
     "output_type": "stream",
     "text": [
      "Median of ages:  42\n"
     ]
    }
   ],
   "source": [
    "#avoid SettingWithCopyWarning error\n",
    "customers = customers.copy()\n",
    "\n",
    "#median of ages\n",
    "median_age = int(customers['age'].median())\n",
    "print('Median of ages: ', median_age)\n",
    "\n",
    "#replace\n",
    "customers.loc[customers['age'] == 0, 'age'] = median_age"
   ]
  },
  {
   "cell_type": "markdown",
   "metadata": {},
   "source": [
    "- **DAYS_EMPLOYED**\n",
    "\n",
    "This column has a lot of problems. Firstly, there are both negative and positive values.\n",
    "\n",
    "Let's use a discribe method to compare the positive and negative sets of values."
   ]
  },
  {
   "cell_type": "code",
   "execution_count": 12,
   "metadata": {},
   "outputs": [
    {
     "data": {
      "text/plain": [
       "count    3431.000000\n",
       "mean     1000.070963\n",
       "std        57.773886\n",
       "min       900.626632\n",
       "25%       949.724236\n",
       "50%      1000.785268\n",
       "75%      1050.117236\n",
       "max      1100.699727\n",
       "Name: days_employed, dtype: float64"
      ]
     },
     "execution_count": 12,
     "metadata": {},
     "output_type": "execute_result"
    }
   ],
   "source": [
    "#Positive values\n",
    "#transform days to years\n",
    "(customers[customers['days_employed']>=0]['days_employed'] / 365).describe()"
   ]
  },
  {
   "cell_type": "markdown",
   "metadata": {},
   "source": [
    "Even the minimum value here is about 900 years. It seems anomalous set was detected.<br> \n",
    "The number of such values is pretty big: 3431"
   ]
  },
  {
   "cell_type": "code",
   "execution_count": 13,
   "metadata": {},
   "outputs": [
    {
     "data": {
      "text/plain": [
       "count    15809.000000\n",
       "mean         6.448367\n",
       "std          6.313862\n",
       "min          0.066141\n",
       "25%          2.073477\n",
       "50%          4.466969\n",
       "75%          8.651383\n",
       "max         50.380685\n",
       "Name: days_employed, dtype: float64"
      ]
     },
     "execution_count": 13,
     "metadata": {},
     "output_type": "execute_result"
    }
   ],
   "source": [
    "#Negative values\n",
    "#transform days to years and get rid of negative numbers\n",
    "(customers[customers['days_employed']<0]['days_employed'] / 365 * (-1)).describe()"
   ]
  },
  {
   "cell_type": "markdown",
   "metadata": {},
   "source": [
    "The minimum value is about zero, the maximum is about fifty. This dataset looks trustworthy. \n",
    "\n",
    "The minimum value in the selection is 0.066141 years. If we round the years up, then the clients who had any work experience will get a value more than zero. \n",
    "\n",
    "So, as a solution, we will translate days into years and flip negative to positive;<br>\n",
    "round a number of years up to its nearest whole value;<br>\n",
    "and replace abnormal values and NaN with zero.\n",
    "\n",
    "Since the number of anomalous values is quite large and this column is not used to answer the task, we derive the number of years in a separate integer column where all values are defined and consistent. In this case, the field can be used later for further analysis.\n",
    "\n",
    "It should be noted that during the transformation in years and getting rid of the minus, the dataset with abnormal values does not intersect with normal ones, because the minimum value in it is 900 years.\n",
    "\n",
    "Also we will make sure that the experience does not exceed the age of the borrower."
   ]
  },
  {
   "cell_type": "code",
   "execution_count": 14,
   "metadata": {},
   "outputs": [
    {
     "name": "stdout",
     "output_type": "stream",
     "text": [
      "Number of rows with anomalous work experience  0\n"
     ]
    }
   ],
   "source": [
    "# avoid SettingWithCopyWarning of Pandas\n",
    "customers = customers.copy()\n",
    "\n",
    "#create a new column \"years_employed\", round up, fill the NaN with zero\n",
    "customers['years_employed'] = np.ceil(customers['days_employed'].fillna(0) / (-365)) \n",
    "#Data type replacement\n",
    "customers['years_employed'] = customers['years_employed'].astype(int)\n",
    "\n",
    "#replace the anomalous values with zero\n",
    "customers.loc[customers['years_employed'] < 0, 'years_employed'] = 0\n",
    "\n",
    "#check work experience and age\n",
    "print('Number of rows with anomalous work experience ', \n",
    "      customers[customers['years_employed'] >= customers['age']]['years_employed'].count())"
   ]
  },
  {
   "cell_type": "markdown",
   "metadata": {},
   "source": [
    "- **TOTAL_INCOME**\n",
    "\n",
    "*Total_income* column has a very high (=362496.645000) value.<br>\n",
    "We woild like to be sure that this is not an outlier.\n",
    "\n",
    "Let's see the distribution of total income."
   ]
  },
  {
   "cell_type": "code",
   "execution_count": 15,
   "metadata": {},
   "outputs": [
    {
     "data": {
      "image/png": "[encoded data removed]",
      "text/plain": [
       "<Figure size 936x216 with 1 Axes>"
      ]
     },
     "metadata": {
      "needs_background": "light"
     },
     "output_type": "display_data"
    }
   ],
   "source": [
    "#plot\n",
    "plt.figure(figsize=(13,3))\n",
    "plt.hist(customers[customers['total_income']>0]['total_income'], bins=15, color='purple')\n",
    "plt.title('An annual income'); plt.xlabel('Total income'); plt.ylabel('Frequency');"
   ]
  },
  {
   "cell_type": "markdown",
   "metadata": {},
   "source": [
    "The value lies on an abnormal distance from other values. But since it’s about revenue, we have to be careful with the decision to eliminate outlier.<br> An outlier may indicate bad data. Let's check."
   ]
  },
  {
   "cell_type": "code",
   "execution_count": 16,
   "metadata": {},
   "outputs": [
    {
     "data": {
      "text/html": [
       "<div>\n",
       "<style scoped>\n",
       "    .dataframe tbody tr th:only-of-type {\n",
       "        vertical-align: middle;\n",
       "    }\n",
       "\n",
       "    .dataframe tbody tr th {\n",
       "        vertical-align: top;\n",
       "    }\n",
       "\n",
       "    .dataframe thead th {\n",
       "        text-align: right;\n",
       "    }\n",
       "</style>\n",
       "<table border=\"1\" class=\"dataframe\">\n",
       "  <thead>\n",
       "    <tr style=\"text-align: right;\">\n",
       "      <th></th>\n",
       "      <th>12412</th>\n",
       "      <th>19606</th>\n",
       "    </tr>\n",
       "  </thead>\n",
       "  <tbody>\n",
       "    <tr>\n",
       "      <th>children</th>\n",
       "      <td>0</td>\n",
       "      <td>1</td>\n",
       "    </tr>\n",
       "    <tr>\n",
       "      <th>days_employed</th>\n",
       "      <td>-1477.44</td>\n",
       "      <td>-2577.66</td>\n",
       "    </tr>\n",
       "    <tr>\n",
       "      <th>age</th>\n",
       "      <td>44</td>\n",
       "      <td>39</td>\n",
       "    </tr>\n",
       "    <tr>\n",
       "      <th>education</th>\n",
       "      <td>bachelor's degree</td>\n",
       "      <td>bachelor's degree</td>\n",
       "    </tr>\n",
       "    <tr>\n",
       "      <th>education_id</th>\n",
       "      <td>0</td>\n",
       "      <td>0</td>\n",
       "    </tr>\n",
       "    <tr>\n",
       "      <th>marital_status</th>\n",
       "      <td>married</td>\n",
       "      <td>married</td>\n",
       "    </tr>\n",
       "    <tr>\n",
       "      <th>marital_status_id</th>\n",
       "      <td>0</td>\n",
       "      <td>0</td>\n",
       "    </tr>\n",
       "    <tr>\n",
       "      <th>gender</th>\n",
       "      <td>M</td>\n",
       "      <td>M</td>\n",
       "    </tr>\n",
       "    <tr>\n",
       "      <th>income_type</th>\n",
       "      <td>business</td>\n",
       "      <td>business</td>\n",
       "    </tr>\n",
       "    <tr>\n",
       "      <th>debt_occured</th>\n",
       "      <td>0</td>\n",
       "      <td>1</td>\n",
       "    </tr>\n",
       "    <tr>\n",
       "      <th>total_income</th>\n",
       "      <td>362497</td>\n",
       "      <td>352136</td>\n",
       "    </tr>\n",
       "    <tr>\n",
       "      <th>purpose_of_loan</th>\n",
       "      <td>housing renovation</td>\n",
       "      <td>building a property</td>\n",
       "    </tr>\n",
       "    <tr>\n",
       "      <th>years_employed</th>\n",
       "      <td>5</td>\n",
       "      <td>8</td>\n",
       "    </tr>\n",
       "  </tbody>\n",
       "</table>\n",
       "</div>"
      ],
      "text/plain": [
       "                                12412                19606\n",
       "children                            0                    1\n",
       "days_employed                -1477.44             -2577.66\n",
       "age                                44                   39\n",
       "education           bachelor's degree    bachelor's degree\n",
       "education_id                        0                    0\n",
       "marital_status                married              married\n",
       "marital_status_id                   0                    0\n",
       "gender                              M                    M\n",
       "income_type                  business             business\n",
       "debt_occured                        0                    1\n",
       "total_income                   362497               352136\n",
       "purpose_of_loan    housing renovation  building a property\n",
       "years_employed                      5                    8"
      ]
     },
     "execution_count": 16,
     "metadata": {},
     "output_type": "execute_result"
    }
   ],
   "source": [
    "#check the tail\n",
    "customers[customers['total_income'] > 300000].T"
   ]
  },
  {
   "cell_type": "markdown",
   "metadata": {},
   "source": [
    "The type of income of the borrower is a business, a loan request is related to real estate and property. The data looks reliable.<br>\n",
    "In addition, as we saw above, the column contains NaN. The selection shows that \"total_income\" and \"days_employed\" columns have NaN values in the same rows. Perhaps they came to the dataset from a source that did not record this data.\n",
    " \n",
    "However, total income may be significant for our analysis, therefore, we will fill the Nan values with zero. And perhaps, we will divide this data into categories later."
   ]
  },
  {
   "cell_type": "code",
   "execution_count": 17,
   "metadata": {
    "scrolled": true
   },
   "outputs": [
    {
     "name": "stdout",
     "output_type": "stream",
     "text": [
      "An undefined total income:  0\n"
     ]
    }
   ],
   "source": [
    "#fill the NaN with zero \n",
    "customers['total_income'] = customers['total_income'].fillna(0)\n",
    "print(\"An undefined total income: \", customers[customers['total_income'].isnull()]['total_income'].count())"
   ]
  },
  {
   "cell_type": "markdown",
   "metadata": {},
   "source": [
    "- **MARITAL_STATUS and EDUCATION**\n",
    "\n",
    "The *edication* column and *marital_status* are labels for *education_id* and *marital_status_id* respectively.<br>\n",
    "We will verify that ID is correctly linked to the labels and convert the values to the lower case."
   ]
  },
  {
   "cell_type": "code",
   "execution_count": 18,
   "metadata": {},
   "outputs": [
    {
     "data": {
      "text/html": [
       "<div>\n",
       "<style scoped>\n",
       "    .dataframe tbody tr th:only-of-type {\n",
       "        vertical-align: middle;\n",
       "    }\n",
       "\n",
       "    .dataframe tbody tr th {\n",
       "        vertical-align: top;\n",
       "    }\n",
       "\n",
       "    .dataframe thead th {\n",
       "        text-align: right;\n",
       "    }\n",
       "</style>\n",
       "<table border=\"1\" class=\"dataframe\">\n",
       "  <thead>\n",
       "    <tr style=\"text-align: right;\">\n",
       "      <th></th>\n",
       "      <th>marital_status</th>\n",
       "      <th>marital_status_id</th>\n",
       "    </tr>\n",
       "  </thead>\n",
       "  <tbody>\n",
       "    <tr>\n",
       "      <th>0</th>\n",
       "      <td>married</td>\n",
       "      <td>0</td>\n",
       "    </tr>\n",
       "    <tr>\n",
       "      <th>1</th>\n",
       "      <td>civil partnership</td>\n",
       "      <td>1</td>\n",
       "    </tr>\n",
       "    <tr>\n",
       "      <th>2</th>\n",
       "      <td>widow / widower</td>\n",
       "      <td>2</td>\n",
       "    </tr>\n",
       "    <tr>\n",
       "      <th>3</th>\n",
       "      <td>divorced</td>\n",
       "      <td>3</td>\n",
       "    </tr>\n",
       "    <tr>\n",
       "      <th>4</th>\n",
       "      <td>unmarried</td>\n",
       "      <td>4</td>\n",
       "    </tr>\n",
       "  </tbody>\n",
       "</table>\n",
       "</div>"
      ],
      "text/plain": [
       "      marital_status  marital_status_id\n",
       "0            married                  0\n",
       "1  civil partnership                  1\n",
       "2    widow / widower                  2\n",
       "3           divorced                  3\n",
       "4          unmarried                  4"
      ]
     },
     "execution_count": 18,
     "metadata": {},
     "output_type": "execute_result"
    }
   ],
   "source": [
    "#marital status\n",
    "df_mstat= customers.drop_duplicates(['marital_status','marital_status_id'])[['marital_status','marital_status_id']]\n",
    "df_mstat.reset_index(drop=True)"
   ]
  },
  {
   "cell_type": "markdown",
   "metadata": {},
   "source": [
    "*marital_status_id* is a valid label for *marital_status*"
   ]
  },
  {
   "cell_type": "code",
   "execution_count": 19,
   "metadata": {},
   "outputs": [
    {
     "data": {
      "text/html": [
       "<div>\n",
       "<style scoped>\n",
       "    .dataframe tbody tr th:only-of-type {\n",
       "        vertical-align: middle;\n",
       "    }\n",
       "\n",
       "    .dataframe tbody tr th {\n",
       "        vertical-align: top;\n",
       "    }\n",
       "\n",
       "    .dataframe thead th {\n",
       "        text-align: right;\n",
       "    }\n",
       "</style>\n",
       "<table border=\"1\" class=\"dataframe\">\n",
       "  <thead>\n",
       "    <tr style=\"text-align: right;\">\n",
       "      <th></th>\n",
       "      <th>education</th>\n",
       "      <th>education_id</th>\n",
       "    </tr>\n",
       "  </thead>\n",
       "  <tbody>\n",
       "    <tr>\n",
       "      <th>0</th>\n",
       "      <td>bachelor's degree</td>\n",
       "      <td>0</td>\n",
       "    </tr>\n",
       "    <tr>\n",
       "      <th>1</th>\n",
       "      <td>secondary education</td>\n",
       "      <td>1</td>\n",
       "    </tr>\n",
       "    <tr>\n",
       "      <th>2</th>\n",
       "      <td>some college</td>\n",
       "      <td>2</td>\n",
       "    </tr>\n",
       "    <tr>\n",
       "      <th>3</th>\n",
       "      <td>primary education</td>\n",
       "      <td>3</td>\n",
       "    </tr>\n",
       "    <tr>\n",
       "      <th>4</th>\n",
       "      <td>graduate degree</td>\n",
       "      <td>4</td>\n",
       "    </tr>\n",
       "  </tbody>\n",
       "</table>\n",
       "</div>"
      ],
      "text/plain": [
       "             education  education_id\n",
       "0    bachelor's degree             0\n",
       "1  secondary education             1\n",
       "2         some college             2\n",
       "3    primary education             3\n",
       "4      graduate degree             4"
      ]
     },
     "execution_count": 19,
     "metadata": {},
     "output_type": "execute_result"
    }
   ],
   "source": [
    "#education\n",
    "#convert to the lower case\n",
    "customers['education'] = customers['education'].str.lower()\n",
    "df_edu = customers.drop_duplicates(['education','education_id'])[['education','education_id']]\n",
    "df_edu.reset_index(drop=True)"
   ]
  },
  {
   "cell_type": "markdown",
   "metadata": {},
   "source": [
    "*education_id* is a valid label for *education*\n",
    "\n",
    "- **INCOME_TYPE**\n",
    "\n",
    "To reduce the dimensionality of the dataset and increase the speed of calculations, we assign the digital equivalent to categorical variables in *income_type* column."
   ]
  },
  {
   "cell_type": "code",
   "execution_count": 20,
   "metadata": {},
   "outputs": [
    {
     "data": {
      "text/html": [
       "<div>\n",
       "<style scoped>\n",
       "    .dataframe tbody tr th:only-of-type {\n",
       "        vertical-align: middle;\n",
       "    }\n",
       "\n",
       "    .dataframe tbody tr th {\n",
       "        vertical-align: top;\n",
       "    }\n",
       "\n",
       "    .dataframe thead th {\n",
       "        text-align: right;\n",
       "    }\n",
       "</style>\n",
       "<table border=\"1\" class=\"dataframe\">\n",
       "  <thead>\n",
       "    <tr style=\"text-align: right;\">\n",
       "      <th></th>\n",
       "      <th>income_type</th>\n",
       "      <th>income_type_id</th>\n",
       "    </tr>\n",
       "  </thead>\n",
       "  <tbody>\n",
       "    <tr>\n",
       "      <th>0</th>\n",
       "      <td>employee</td>\n",
       "      <td>1</td>\n",
       "    </tr>\n",
       "    <tr>\n",
       "      <th>1</th>\n",
       "      <td>retiree</td>\n",
       "      <td>2</td>\n",
       "    </tr>\n",
       "    <tr>\n",
       "      <th>2</th>\n",
       "      <td>business</td>\n",
       "      <td>3</td>\n",
       "    </tr>\n",
       "    <tr>\n",
       "      <th>3</th>\n",
       "      <td>civil servant</td>\n",
       "      <td>4</td>\n",
       "    </tr>\n",
       "    <tr>\n",
       "      <th>4</th>\n",
       "      <td>unemployed</td>\n",
       "      <td>0</td>\n",
       "    </tr>\n",
       "    <tr>\n",
       "      <th>5</th>\n",
       "      <td>entrepreneur</td>\n",
       "      <td>6</td>\n",
       "    </tr>\n",
       "    <tr>\n",
       "      <th>6</th>\n",
       "      <td>student</td>\n",
       "      <td>5</td>\n",
       "    </tr>\n",
       "    <tr>\n",
       "      <th>7</th>\n",
       "      <td>paternity / maternity leave</td>\n",
       "      <td>0</td>\n",
       "    </tr>\n",
       "  </tbody>\n",
       "</table>\n",
       "</div>"
      ],
      "text/plain": [
       "                   income_type  income_type_id\n",
       "0                     employee               1\n",
       "1                      retiree               2\n",
       "2                     business               3\n",
       "3                civil servant               4\n",
       "4                   unemployed               0\n",
       "5                 entrepreneur               6\n",
       "6                      student               5\n",
       "7  paternity / maternity leave               0"
      ]
     },
     "execution_count": 20,
     "metadata": {},
     "output_type": "execute_result"
    }
   ],
   "source": [
    "def label_income_type(row):\n",
    "    #The function returns ID number for label of \"income_type\" column  \n",
    "    \n",
    "    return_value = 0 #unemployed type by default\n",
    "    \n",
    "    income_type = row['income_type']\n",
    "    if income_type == 'employee':\n",
    "        return_value = 1\n",
    "    elif income_type == 'retiree':\n",
    "        return_value = 2\n",
    "    elif income_type == 'business':\n",
    "        return_value = 3\n",
    "    elif income_type == \"civil servant\":\n",
    "        return_value = 4\n",
    "    elif income_type == 'student':\n",
    "        return_value = 5\n",
    "    elif income_type == 'entrepreneur':\n",
    "        return_value = 6\n",
    "    elif income_type == \"paternity/maternity leave\":\n",
    "        return_value = 7\n",
    "\n",
    "    return return_value\n",
    "\n",
    "#create a new column \"income_type_id\"\n",
    "customers['income_type_id'] = customers.apply(label_income_type, axis=1)\n",
    "\n",
    "#income type as dataset\n",
    "df_inctype = customers.drop_duplicates(['income_type','income_type_id'])[['income_type','income_type_id']]\n",
    "df_inctype.reset_index(drop=True)"
   ]
  },
  {
   "cell_type": "markdown",
   "metadata": {},
   "source": [
    "- **PURPOSE_OF_LOAN**\n",
    "\n",
    "Unify the text of the loan request for the convenience of further analysis"
   ]
  },
  {
   "cell_type": "code",
   "execution_count": 21,
   "metadata": {},
   "outputs": [
    {
     "name": "stdout",
     "output_type": "stream",
     "text": [
      "Number of underfined labels: 0\n"
     ]
    }
   ],
   "source": [
    "def label_purpose_of_loan(row):\n",
    "    #The function creates labels for \"purpose_of_loan\" column\n",
    "    \n",
    "    return_value = 'undefined' #undefined label\n",
    "    \n",
    "    keywords = {'wedding': 'wedding',\n",
    "                'estate': 'property','property': 'property','house': 'property','housing': 'property',\n",
    "                'car': 'car', 'cars': 'car',\n",
    "                'education': 'education', 'educated': 'education', 'university': 'education'\n",
    "                }\n",
    "\n",
    "    purpose = row['text_purpose']\n",
    "\n",
    "    for word, label in keywords.items():\n",
    "        if word in purpose:\n",
    "            return_value = label\n",
    "    return return_value\n",
    "\n",
    "#create a new column with text divided into words\n",
    "customers['text_purpose'] = customers['purpose_of_loan'].apply(word_tokenize)\n",
    "\n",
    "#create column of labels\n",
    "customers['purpose_id'] = customers.apply(label_purpose_of_loan, axis=1)\n",
    "\n",
    "#check underfined label\n",
    "print(\"Number of underfined labels:\", customers[customers['purpose_id'] == 'undefined']['purpose_id'].count())"
   ]
  },
  {
   "cell_type": "code",
   "execution_count": 22,
   "metadata": {},
   "outputs": [
    {
     "data": {
      "text/plain": [
       "purpose_id\n",
       "property     10780\n",
       "car           4288\n",
       "education     3997\n",
       "wedding       2337\n",
       "Name: purpose_id, dtype: int64"
      ]
     },
     "execution_count": 22,
     "metadata": {},
     "output_type": "execute_result"
    }
   ],
   "source": [
    "#labels\n",
    "customers.groupby('purpose_id')['purpose_id'].count().sort_values(ascending=False)"
   ]
  },
  {
   "cell_type": "markdown",
   "metadata": {},
   "source": [
    "### Processing duplicates <a class=\"anchor\" id=\"Part2step2\"></a>\n",
    "The final dataset should contain the fields necessary for quick calculations. Duplicate entries must be deleted.\n",
    "\n",
    "Our dataset has a large number of records and many attributes. We also filled in the empty values and removed the main artifacts. The dataset is quite variable, so we can remove duplicate entries if they occur."
   ]
  },
  {
   "cell_type": "code",
   "execution_count": 23,
   "metadata": {},
   "outputs": [
    {
     "name": "stdout",
     "output_type": "stream",
     "text": [
      "Total count in source data is      21525\n",
      "Total count of clean data rows is  21330\n"
     ]
    }
   ],
   "source": [
    "#the final dataset\n",
    "df = customers[['children', 'age', 'education_id', 'marital_status_id','gender','debt_occured',\n",
    "                 'total_income','years_employed','income_type_id','purpose_of_loan','purpose_id']].copy()\n",
    "\n",
    "#delete duplicated rows\n",
    "df.drop_duplicates(inplace=True)\n",
    "\n",
    "print('Total count in source data is     ',data.shape[0])\n",
    "print('Total count of clean data rows is ',df.shape[0])"
   ]
  },
  {
   "cell_type": "markdown",
   "metadata": {},
   "source": [
    "### Conclusion <a class=\"anchor\" id=\"Conclusion_Part_2\"></a>\n",
    "\n",
    "There are three types of missing values:  missing completely at random (MCAR), missing at random (MAR), and missing not at random (MNAR). In our dataset we dealt with MCAR missing values.<br>\n",
    "All undefined and empty values was replaced with the values corresponding to our main task.\n",
    "\n",
    "We practically saved the amount of data in the sample. <br> \n",
    "For statistical analysis it is better to have a large amount of data. This gives us a better distribution of data and improves the quality of analysis."
   ]
  },
  {
   "cell_type": "markdown",
   "metadata": {},
   "source": [
    "## Part 3. Exploratory Analysis<a class=\"anchor\" id=\"Part_3\"></a>\n",
    "[Go back to the Contents](#contents)\n",
    "\n",
    "Now we can look at the dependencies and reach some conclusions. Let's find answers on the questions.\n",
    "\n",
    "- **Is there a relation between having kids and repaying a loan on time?**"
   ]
  },
  {
   "cell_type": "code",
   "execution_count": 24,
   "metadata": {},
   "outputs": [
    {
     "name": "stdout",
     "output_type": "stream",
     "text": [
      "Total number of customers with children:  7240\n",
      "Percentage in the group\n",
      "No debt 90.8%\n",
      "Debt    9.2%\n",
      "\n",
      "Total number of customers without children:  14090\n",
      "Percentage in the group\n",
      "No debt 92.5%\n",
      "Debt    7.5%\n"
     ]
    }
   ],
   "source": [
    "def print_result(df_print):\n",
    "    #this function prints result\n",
    "    try:\n",
    "        print('Percentage in the group')\n",
    "        for key, value in df_print.items():\n",
    "            print(\"No debt {:.1%}\".format(value[0]) )\n",
    "            print(\"Debt    {:.1%}\".format(value[1]) )\n",
    "    except:\n",
    "        print('No information')\n",
    "    return\n",
    "   \n",
    "#select dataset with children\n",
    "df_kids= df[df['children']>0][['children','debt_occured']]\n",
    "#number of rows in the dataset\n",
    "total= df_kids.shape[0]\n",
    "print(\"Total number of customers with children: \", total)\n",
    "#result by group\n",
    "print_result(df_kids.groupby('debt_occured').count() / total)\n",
    "print()\n",
    "\n",
    "#select dataset without children\n",
    "df_no_kids= df[(df['children'] ==0)][['children','debt_occured']]\n",
    "#number of rows in the dataset\n",
    "total= df_no_kids.shape[0]\n",
    "print(\"Total number of customers without children: \", total)\n",
    "#result by group\n",
    "print_result(df_no_kids.groupby('debt_occured').count() / total)"
   ]
  },
  {
   "cell_type": "markdown",
   "metadata": {},
   "source": [
    "In the group of clients with children, the percentage of debtors is slightly higher - by 1.7%\n",
    "\n",
    "Having dependents means customer has higher commitments, which in turn lower his disposable income. In other words, each additional person increases customer living expenses.\n",
    "\n",
    "Let's see how the size of income per person affects the repayment of a loan."
   ]
  },
  {
   "cell_type": "code",
   "execution_count": 25,
   "metadata": {},
   "outputs": [],
   "source": [
    "def income_label(row):\n",
    "    #This function returns a label corresponding to the income level\n",
    "    try:\n",
    "        income = row['income_per_person']\n",
    "        if income < 5000:\n",
    "            level= \"less then 5000\"\n",
    "        elif (income >= 5000)&(income < 10000): \n",
    "            level= \"from 5000 to 10000\"\n",
    "        else:\n",
    "            level= \"more 10000\"\n",
    "    except:\n",
    "        level= \"undefined\"\n",
    "    return level    "
   ]
  },
  {
   "cell_type": "code",
   "execution_count": 26,
   "metadata": {},
   "outputs": [],
   "source": [
    "#create dataset of customers with kids\n",
    "df_kids= df[df['children']>0][['children','marital_status_id','total_income','debt_occured']]\n",
    "#income per person\n",
    "df_kids['income_per_person'] = round(df_kids['total_income'] /\n",
    "                   (df_kids['children'] + np.where(df_kids['marital_status_id'] <=1, 2,1))).astype(int)\n",
    "#string label of income\n",
    "df_kids['income_level'] = df_kids.apply(income_label, axis=1)"
   ]
  },
  {
   "cell_type": "code",
   "execution_count": 27,
   "metadata": {},
   "outputs": [
    {
     "data": {
      "image/png": "[encoded data removed]",
      "text/plain": [
       "<Figure size 936x288 with 1 Axes>"
      ]
     },
     "metadata": {
      "needs_background": "light"
     },
     "output_type": "display_data"
    }
   ],
   "source": [
    "#percentage of income by debt occur\n",
    "#dataset for plotting\n",
    "df_s=(pd.pivot_table(df_kids, values='children', index=['debt_occured'], columns=['income_level'], \n",
    "               aggfunc='count') / df_kids.shape[0])\n",
    "\n",
    "#plot\n",
    "fig, ax = plt.subplots(figsize=(13, 4))\n",
    "df_s.T.plot(kind='bar', ax=ax)\n",
    "ax.set(title='The percentage of income by debt occur', ylabel='Percentage');\n",
    "plt.xticks(rotation=0)\n",
    "#annotation of bar labels\n",
    "for p in ax.patches:\n",
    "        ax.annotate('{:.0%}'.format(p.get_height()), (p.get_x()+0.15, p.get_height()), \n",
    "                    ha='center', va='bottom', color= 'black')\n",
    "green_patch= mpatches.Patch(label='debt no occured')\n",
    "red_patch= mpatches.Patch(color='orange',label='debt occured')\n",
    "plt.legend(handles=[green_patch, red_patch], bbox_to_anchor=(1.05, 1), loc=2, borderaxespad=0.);        "
   ]
  },
  {
   "cell_type": "markdown",
   "metadata": {},
   "source": [
    "### Conclusion\n",
    "\n",
    "Сustomers without children were 1.7% less likely to have difficulty repaying a loan.\n",
    "\n",
    "However, borrowers with children showed a relation between payments and the level of income per person in the family. Clients with an average income level from 5,000 to 10,000 per person have the highest loan repayment rate."
   ]
  },
  {
   "cell_type": "markdown",
   "metadata": {},
   "source": [
    "Next question is\n",
    "- **Is there a relation between marital status and repaying a loan on time?**\n",
    "\n",
    "Marital status is a rather volatile attribute. It can change at any time and family income can change in any direction.<br>\n",
    "Let's see the distribution by groups."
   ]
  },
  {
   "cell_type": "code",
   "execution_count": 28,
   "metadata": {},
   "outputs": [
    {
     "name": "stdout",
     "output_type": "stream",
     "text": [
      "Total number of customers living with a partner:              16394\n",
      "Percentage in the group\n",
      "No debt 92.0%\n",
      "Debt    8.0%\n",
      "\n",
      "Total number of customers living without an official partner:  4936\n",
      "Percentage in the group\n",
      "No debt 91.5%\n",
      "Debt    8.5%\n"
     ]
    }
   ],
   "source": [
    "#select customers with a partner \n",
    "df_partners= df[df['marital_status_id'] <= 1][['marital_status_id','debt_occured']]\n",
    "total= df_partners.shape[0]\n",
    "print(\"Total number of customers living with a partner:             \", total)\n",
    "#result by group\n",
    "print_result(df_partners.groupby('debt_occured').count() / total)\n",
    "print()\n",
    "\n",
    "#select customers without a partner \n",
    "df_single= df[df['marital_status_id']>1][['marital_status_id','debt_occured']]\n",
    "total= df_single.shape[0]\n",
    "print(\"Total number of customers living without an official partner: \", total)\n",
    "#result by group\n",
    "print_result(df_single.groupby('debt_occured').count() / total)"
   ]
  },
  {
   "cell_type": "markdown",
   "metadata": {},
   "source": [
    "In this sample there is no relation between having an official partner and ability to repay the loan on time.<br> In detail:"
   ]
  },
  {
   "cell_type": "code",
   "execution_count": 29,
   "metadata": {},
   "outputs": [],
   "source": [
    "#merge label of marital status\n",
    "df_marital = df.merge(df_mstat, on='marital_status_id', how='left').copy()\n",
    "#count marital status, split by debt_occured\n",
    "df_status = df_marital.groupby(['marital_status','debt_occured'])['marital_status_id'].count()\n",
    "#count marital status by group\n",
    "df_status_sum = df_marital.groupby(['marital_status'])['marital_status'].count()"
   ]
  },
  {
   "cell_type": "code",
   "execution_count": 30,
   "metadata": {},
   "outputs": [
    {
     "data": {
      "image/png": "[encoded data removed]",
      "text/plain": [
       "<Figure size 936x288 with 1 Axes>"
      ]
     },
     "metadata": {
      "needs_background": "light"
     },
     "output_type": "display_data"
    }
   ],
   "source": [
    "#dataset for plotting\n",
    "df_s=df_status.div(df_status_sum, level='marital_status').reset_index()\n",
    "\n",
    "#plot\n",
    "plt.figure(figsize=(13,4))\n",
    "ax = sns.barplot(x=df_s['marital_status'], y=df_s[0], hue=df_s['debt_occured']\n",
    "                 , palette=\"Set1\")\n",
    "ax.set(title='The distribution of events', ylabel='Percentage');\n",
    "#annotation of bar labels\n",
    "for p in ax.patches:\n",
    "        ax.annotate('{:.0%}'.format(p.get_height()), (p.get_x()+0.2, p.get_height()), \n",
    "                    ha='center', va='bottom', color= 'black')\n",
    "green_patch= mpatches.Patch(color='red', label='debt no occured')\n",
    "red_patch= mpatches.Patch(label='debt occured')\n",
    "plt.legend(handles=[green_patch, red_patch], bbox_to_anchor=(1.05, 1), loc=2, borderaxespad=0.);"
   ]
  },
  {
   "cell_type": "markdown",
   "metadata": {},
   "source": [
    "### Conclusion\n",
    "\n",
    "Having a partner does not give big advantages when repaying a loan.<br> But marital status shows that widow / widower repay the loan more often than others. Divorced and married customers on the same level. The largest percentage of debt at  customers with marital status as civil partnership and unmarried."
   ]
  },
  {
   "cell_type": "markdown",
   "metadata": {},
   "source": [
    "Our next question is \n",
    "- **Is there a relation between income level and repaying a loan on time?**\n",
    "\n",
    "We will divide total income into several groups to answer this question.<br>\n",
    "Let's look at the distribution of data in the field 'total_income'"
   ]
  },
  {
   "cell_type": "code",
   "execution_count": 31,
   "metadata": {},
   "outputs": [
    {
     "data": {
      "text/plain": [
       "count     19240.000000\n",
       "mean      26791.806362\n",
       "std       16496.819745\n",
       "min        3306.762000\n",
       "25%       16480.020250\n",
       "50%       23203.328000\n",
       "75%       32551.144000\n",
       "max      362496.645000\n",
       "Name: total_income, dtype: float64"
      ]
     },
     "execution_count": 31,
     "metadata": {},
     "output_type": "execute_result"
    }
   ],
   "source": [
    "df[df['total_income']>0]['total_income'].describe()"
   ]
  },
  {
   "cell_type": "markdown",
   "metadata": {},
   "source": [
    "We select the groups based on the data above.\n",
    "- low_level (less 16500)\n",
    "- medium level (from 16500 to 32500)\n",
    "- high level (more 32500)\n"
   ]
  },
  {
   "cell_type": "code",
   "execution_count": 32,
   "metadata": {},
   "outputs": [
    {
     "name": "stdout",
     "output_type": "stream",
     "text": [
      "Percentage of LOW level (less 16500) income with no debt                 92.06 %\n",
      "Percentage of MEDIUM level (more than 16500 and less 32500) with no debt 91.25 %\n",
      "Percentage of HIGH level (more 32500) income with no debt                92.97 %\n"
     ]
    }
   ],
   "source": [
    "def income_level_groups(row):\n",
    "    #This function return label of total income\n",
    "    try:\n",
    "        total_income = row['total_income']\n",
    "    \n",
    "        if total_income < 16500:\n",
    "            level= 'low'\n",
    "        elif (total_income >= 16500)&(total_income < 32500): \n",
    "            level= 'medium'\n",
    "        else:\n",
    "            level= 'high'\n",
    "    except:\n",
    "        level= 'undefined'\n",
    "    return level    \n",
    " \n",
    "#create dataset\n",
    "df_income= df[df['total_income']>0].copy()\n",
    "#add a group label by income level\n",
    "df_income['income_level'] = df_income.apply(income_level_groups, axis=1)\n",
    "#calculates the percentage\n",
    "df_stat = df_income.groupby(['income_level','debt_occured'])['income_level'].count()\n",
    "df_sum  = df_income.groupby(['income_level'])['income_level'].count()\n",
    "df_income_stat = round(df_stat.div(df_sum, level='income_level') * 100, 2)\n",
    "#result\n",
    "print(\"Percentage of LOW level (less 16500) income with no debt                \", df_income_stat['low'][0],\"%\" )\n",
    "print(\"Percentage of MEDIUM level (more than 16500 and less 32500) with no debt\", df_income_stat['medium'][0],\"%\")\n",
    "print(\"Percentage of HIGH level (more 32500) income with no debt               \", df_income_stat['high'][0],\"%\")"
   ]
  },
  {
   "cell_type": "markdown",
   "metadata": {},
   "source": [
    "### Conclusion\n",
    "\n",
    "Customers with an annual income of over 32,500 repay the loan 2% more often than customers with an average income (from 16,500 to 32,500) and only 1% than customers with a low income level of less than 16,500.\n",
    "<br>\n",
    "<br>\n",
    "The last question is\n",
    "- **How do different loan purposes affect on-time repayment of the loan?**\n",
    "\n",
    "Above, we have already identified labels describing the reasons stated for obtaining a loan. These are the following tags:\n",
    "- wedding\n",
    "- property\n",
    "- car\n",
    "- education\n",
    "\n",
    "Having grouped the dataset by these labels, we will understand what purpose of the loan has a higher percentage of loan repayment on time."
   ]
  },
  {
   "cell_type": "code",
   "execution_count": 33,
   "metadata": {},
   "outputs": [
    {
     "data": {
      "image/png": "[encoded data removed]",
      "text/plain": [
       "<Figure size 936x288 with 1 Axes>"
      ]
     },
     "metadata": {
      "needs_background": "light"
     },
     "output_type": "display_data"
    }
   ],
   "source": [
    "#create dataset of customers without debt occured\n",
    "df_no_debt = df[df['debt_occured'] == 0].groupby('purpose_id').count()\n",
    "#percentage\n",
    "df_purpose = df_no_debt['debt_occured'] / df.shape[0]\n",
    "#sort descending\n",
    "df_purpose = df_purpose.sort_values(ascending = False)\n",
    "\n",
    "#plot\n",
    "plt.figure(figsize=(13,4))\n",
    "ax = sns.barplot(x=df_purpose.index, y=df_purpose.values #, hue=df_s['debt_occured']\n",
    "                 , palette=\"Set1\")\n",
    "ax.set(title='The list of reasons for obtaining a loan by the frequency of payments on time', ylabel='Percentage');\n",
    "#annotation of bar labels\n",
    "for p in ax.patches:\n",
    "        ax.annotate('{:.0%}'.format(p.get_height()), (p.get_x()+0.4, p.get_height()), \n",
    "                    ha='center', va='bottom', color= 'black')"
   ]
  },
  {
   "cell_type": "markdown",
   "metadata": {},
   "source": [
    "### Conclusion\n",
    "\n",
    "Customers receiving a loan by the reason connected to property, most often pay it on time."
   ]
  },
  {
   "cell_type": "markdown",
   "metadata": {},
   "source": [
    "## General conclusion.<a class=\"anchor\" id=\"General_Conclusion\"></a>\n",
    "\n",
    "[Go back to the Contents](#contents)\n",
    "\n",
    "A credit score is a magic number telling lenders our potential credit risk and ability to repay loans. Usually, payment history is one of the basic elements in calculating a credit rating.\n",
    "\n",
    "To help correctly assess the history of payments and make a fair decision regarding the issuance of a loan, this project conducted a study of the relationship between some key characteristics of customers.\n",
    "\n",
    "The main task was to find out if a customer’s marital status and number of children has an impact on whether they will default on a loan.\n",
    "\n",
    "Based on the data obtained for analysis, we tried to identify  relationships, trends, and anomalies.\n",
    "\n",
    "There are 4 main reasons for obtaining a loan, ranked by loan repayment frequency:\n",
    "- PROPERTY  \n",
    "- CAR             \n",
    "- EDUCATION\n",
    "- WEDDING\n",
    "\n",
    "We can say that customers with children have more problems with repaying a loan. However, with an income level per person from 5,000 to 10,000 they show a high level of timely payments.\n",
    "\n",
    "Also, customers who register a marriage have fewer problems paying a loan on time than customers with civil partnership or unmarried.\n",
    "\n",
    "In addition, customers with an average annual income are more likely to have debt."
   ]
  }
 ],
 "metadata": {
  "kernelspec": {
   "display_name": "Python 3",
   "language": "python",
   "name": "python3"
  },
  "language_info": {
   "codemirror_mode": {
    "name": "ipython",
    "version": 3
   },
   "file_extension": ".py",
   "mimetype": "text/x-python",
   "name": "python",
   "nbconvert_exporter": "python",
   "pygments_lexer": "ipython3",
   "version": "3.7.9"
  },
  "toc": {
   "base_numbering": 1,
   "nav_menu": {},
   "number_sections": true,
   "sideBar": true,
   "skip_h1_title": false,
   "title_cell": "Table of Contents",
   "title_sidebar": "Contents",
   "toc_cell": false,
   "toc_position": {},
   "toc_section_display": true,
   "toc_window_display": false
  }
 },
 "nbformat": 4,
 "nbformat_minor": 2
}
